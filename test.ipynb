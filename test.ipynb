{
 "cells": [
  {
   "cell_type": "code",
   "execution_count": 1,
   "outputs": [
    {
     "ename": "ValueError",
     "evalue": "Unknown mat file type, version 100, 97",
     "output_type": "error",
     "traceback": [
      "\u001B[1;31m---------------------------------------------------------------------------\u001B[0m",
      "\u001B[1;31mValueError\u001B[0m                                Traceback (most recent call last)",
      "\u001B[1;32m~\\AppData\\Local\\Temp\\ipykernel_12068\\3088819749.py\u001B[0m in \u001B[0;36m<module>\u001B[1;34m\u001B[0m\n\u001B[0;32m     82\u001B[0m \u001B[1;31m# ----ICraft----\u001B[0m\u001B[1;33m\u001B[0m\u001B[1;33m\u001B[0m\u001B[1;33m\u001B[0m\u001B[0m\n\u001B[0;32m     83\u001B[0m \u001B[0mt_load_data\u001B[0m \u001B[1;33m=\u001B[0m \u001B[0mtime\u001B[0m\u001B[1;33m(\u001B[0m\u001B[1;33m)\u001B[0m\u001B[1;33m\u001B[0m\u001B[1;33m\u001B[0m\u001B[0m\n\u001B[1;32m---> 84\u001B[1;33m \u001B[0mimage_dataset\u001B[0m \u001B[1;33m=\u001B[0m \u001B[0mload_image_files\u001B[0m\u001B[1;33m(\u001B[0m\u001B[1;34m'.\\dataRCS'\u001B[0m\u001B[1;33m)\u001B[0m\u001B[1;33m\u001B[0m\u001B[1;33m\u001B[0m\u001B[0m\n\u001B[0m\u001B[0;32m     85\u001B[0m \u001B[0mprint\u001B[0m\u001B[1;33m(\u001B[0m\u001B[1;34m\"Data load done in %0.3fs\"\u001B[0m \u001B[1;33m%\u001B[0m \u001B[1;33m(\u001B[0m\u001B[0mtime\u001B[0m\u001B[1;33m(\u001B[0m\u001B[1;33m)\u001B[0m \u001B[1;33m-\u001B[0m \u001B[0mt_load_data\u001B[0m\u001B[1;33m)\u001B[0m\u001B[1;33m)\u001B[0m\u001B[1;33m\u001B[0m\u001B[1;33m\u001B[0m\u001B[0m\n\u001B[0;32m     86\u001B[0m \u001B[1;31m# image_dataset_test = load_image_files(\"E:/RL_code/alex-net-image-classification-master/class3/val\")\u001B[0m\u001B[1;33m\u001B[0m\u001B[1;33m\u001B[0m\u001B[1;33m\u001B[0m\u001B[0m\n",
      "\u001B[1;32m~\\AppData\\Local\\Temp\\ipykernel_12068\\3088819749.py\u001B[0m in \u001B[0;36mload_image_files\u001B[1;34m(container_path, dimension)\u001B[0m\n\u001B[0;32m     50\u001B[0m         \u001B[1;31m# print(direc)\u001B[0m\u001B[1;33m\u001B[0m\u001B[1;33m\u001B[0m\u001B[1;33m\u001B[0m\u001B[0m\n\u001B[0;32m     51\u001B[0m         \u001B[1;32mfor\u001B[0m \u001B[0mfile\u001B[0m \u001B[1;32min\u001B[0m \u001B[0mdirec\u001B[0m\u001B[1;33m.\u001B[0m\u001B[0miterdir\u001B[0m\u001B[1;33m(\u001B[0m\u001B[1;33m)\u001B[0m\u001B[1;33m:\u001B[0m\u001B[1;33m\u001B[0m\u001B[1;33m\u001B[0m\u001B[0m\n\u001B[1;32m---> 52\u001B[1;33m             \u001B[0mmat_data\u001B[0m \u001B[1;33m=\u001B[0m \u001B[0msciio\u001B[0m\u001B[1;33m.\u001B[0m\u001B[0mloadmat\u001B[0m\u001B[1;33m(\u001B[0m\u001B[0mfile\u001B[0m\u001B[1;33m)\u001B[0m\u001B[1;33m\u001B[0m\u001B[1;33m\u001B[0m\u001B[0m\n\u001B[0m\u001B[0;32m     53\u001B[0m             \u001B[0mimg\u001B[0m \u001B[1;33m=\u001B[0m \u001B[0mnp\u001B[0m\u001B[1;33m.\u001B[0m\u001B[0mabs\u001B[0m\u001B[1;33m(\u001B[0m\u001B[0mmat_data\u001B[0m\u001B[1;33m[\u001B[0m\u001B[1;34m'frame_Ev'\u001B[0m\u001B[1;33m]\u001B[0m\u001B[1;33m)\u001B[0m\u001B[1;33m\u001B[0m\u001B[1;33m\u001B[0m\u001B[0m\n\u001B[0;32m     54\u001B[0m             \u001B[0mraw_data\u001B[0m \u001B[1;33m=\u001B[0m \u001B[1;33m[\u001B[0m\u001B[1;33m]\u001B[0m\u001B[1;33m\u001B[0m\u001B[1;33m\u001B[0m\u001B[0m\n",
      "\u001B[1;32mE:\\miniconda\\envs\\TZB\\lib\\site-packages\\scipy\\io\\matlab\\mio.py\u001B[0m in \u001B[0;36mloadmat\u001B[1;34m(file_name, mdict, appendmat, **kwargs)\u001B[0m\n\u001B[0;32m    223\u001B[0m     \u001B[0mvariable_names\u001B[0m \u001B[1;33m=\u001B[0m \u001B[0mkwargs\u001B[0m\u001B[1;33m.\u001B[0m\u001B[0mpop\u001B[0m\u001B[1;33m(\u001B[0m\u001B[1;34m'variable_names'\u001B[0m\u001B[1;33m,\u001B[0m \u001B[1;32mNone\u001B[0m\u001B[1;33m)\u001B[0m\u001B[1;33m\u001B[0m\u001B[1;33m\u001B[0m\u001B[0m\n\u001B[0;32m    224\u001B[0m     \u001B[1;32mwith\u001B[0m \u001B[0m_open_file_context\u001B[0m\u001B[1;33m(\u001B[0m\u001B[0mfile_name\u001B[0m\u001B[1;33m,\u001B[0m \u001B[0mappendmat\u001B[0m\u001B[1;33m)\u001B[0m \u001B[1;32mas\u001B[0m \u001B[0mf\u001B[0m\u001B[1;33m:\u001B[0m\u001B[1;33m\u001B[0m\u001B[1;33m\u001B[0m\u001B[0m\n\u001B[1;32m--> 225\u001B[1;33m         \u001B[0mMR\u001B[0m\u001B[1;33m,\u001B[0m \u001B[0m_\u001B[0m \u001B[1;33m=\u001B[0m \u001B[0mmat_reader_factory\u001B[0m\u001B[1;33m(\u001B[0m\u001B[0mf\u001B[0m\u001B[1;33m,\u001B[0m \u001B[1;33m**\u001B[0m\u001B[0mkwargs\u001B[0m\u001B[1;33m)\u001B[0m\u001B[1;33m\u001B[0m\u001B[1;33m\u001B[0m\u001B[0m\n\u001B[0m\u001B[0;32m    226\u001B[0m         \u001B[0mmatfile_dict\u001B[0m \u001B[1;33m=\u001B[0m \u001B[0mMR\u001B[0m\u001B[1;33m.\u001B[0m\u001B[0mget_variables\u001B[0m\u001B[1;33m(\u001B[0m\u001B[0mvariable_names\u001B[0m\u001B[1;33m)\u001B[0m\u001B[1;33m\u001B[0m\u001B[1;33m\u001B[0m\u001B[0m\n\u001B[0;32m    227\u001B[0m \u001B[1;33m\u001B[0m\u001B[0m\n",
      "\u001B[1;32mE:\\miniconda\\envs\\TZB\\lib\\site-packages\\scipy\\io\\matlab\\mio.py\u001B[0m in \u001B[0;36mmat_reader_factory\u001B[1;34m(file_name, appendmat, **kwargs)\u001B[0m\n\u001B[0;32m     72\u001B[0m     \"\"\"\n\u001B[0;32m     73\u001B[0m     \u001B[0mbyte_stream\u001B[0m\u001B[1;33m,\u001B[0m \u001B[0mfile_opened\u001B[0m \u001B[1;33m=\u001B[0m \u001B[0m_open_file\u001B[0m\u001B[1;33m(\u001B[0m\u001B[0mfile_name\u001B[0m\u001B[1;33m,\u001B[0m \u001B[0mappendmat\u001B[0m\u001B[1;33m)\u001B[0m\u001B[1;33m\u001B[0m\u001B[1;33m\u001B[0m\u001B[0m\n\u001B[1;32m---> 74\u001B[1;33m     \u001B[0mmjv\u001B[0m\u001B[1;33m,\u001B[0m \u001B[0mmnv\u001B[0m \u001B[1;33m=\u001B[0m \u001B[0mget_matfile_version\u001B[0m\u001B[1;33m(\u001B[0m\u001B[0mbyte_stream\u001B[0m\u001B[1;33m)\u001B[0m\u001B[1;33m\u001B[0m\u001B[1;33m\u001B[0m\u001B[0m\n\u001B[0m\u001B[0;32m     75\u001B[0m     \u001B[1;32mif\u001B[0m \u001B[0mmjv\u001B[0m \u001B[1;33m==\u001B[0m \u001B[1;36m0\u001B[0m\u001B[1;33m:\u001B[0m\u001B[1;33m\u001B[0m\u001B[1;33m\u001B[0m\u001B[0m\n\u001B[0;32m     76\u001B[0m         \u001B[1;32mreturn\u001B[0m \u001B[0mMatFile4Reader\u001B[0m\u001B[1;33m(\u001B[0m\u001B[0mbyte_stream\u001B[0m\u001B[1;33m,\u001B[0m \u001B[1;33m**\u001B[0m\u001B[0mkwargs\u001B[0m\u001B[1;33m)\u001B[0m\u001B[1;33m,\u001B[0m \u001B[0mfile_opened\u001B[0m\u001B[1;33m\u001B[0m\u001B[1;33m\u001B[0m\u001B[0m\n",
      "\u001B[1;32mE:\\miniconda\\envs\\TZB\\lib\\site-packages\\scipy\\io\\matlab\\miobase.py\u001B[0m in \u001B[0;36mget_matfile_version\u001B[1;34m(fileobj)\u001B[0m\n\u001B[0;32m    229\u001B[0m     \u001B[1;32mif\u001B[0m \u001B[0mmaj_val\u001B[0m \u001B[1;32min\u001B[0m \u001B[1;33m(\u001B[0m\u001B[1;36m1\u001B[0m\u001B[1;33m,\u001B[0m \u001B[1;36m2\u001B[0m\u001B[1;33m)\u001B[0m\u001B[1;33m:\u001B[0m\u001B[1;33m\u001B[0m\u001B[1;33m\u001B[0m\u001B[0m\n\u001B[0;32m    230\u001B[0m         \u001B[1;32mreturn\u001B[0m \u001B[0mret\u001B[0m\u001B[1;33m\u001B[0m\u001B[1;33m\u001B[0m\u001B[0m\n\u001B[1;32m--> 231\u001B[1;33m     \u001B[1;32mraise\u001B[0m \u001B[0mValueError\u001B[0m\u001B[1;33m(\u001B[0m\u001B[1;34m'Unknown mat file type, version %s, %s'\u001B[0m \u001B[1;33m%\u001B[0m \u001B[0mret\u001B[0m\u001B[1;33m)\u001B[0m\u001B[1;33m\u001B[0m\u001B[1;33m\u001B[0m\u001B[0m\n\u001B[0m\u001B[0;32m    232\u001B[0m \u001B[1;33m\u001B[0m\u001B[0m\n\u001B[0;32m    233\u001B[0m \u001B[1;33m\u001B[0m\u001B[0m\n",
      "\u001B[1;31mValueError\u001B[0m: Unknown mat file type, version 100, 97"
     ]
    }
   ],
   "source": [
    "# load data\n",
    "import matplotlib\n",
    "import numpy as np\n",
    "import pandas as pd\n",
    "import matplotlib.pyplot as plt\n",
    "import math\n",
    "import scipy.io as sciio\n",
    "from time import time\n",
    "import sklearn\n",
    "# %matplotlib inline\n",
    "from sklearn.datasets import make_blobs\n",
    "from sklearn.decomposition import NMF\n",
    "from sklearn.svm import SVC\n",
    "from pathlib import Path\n",
    "import matplotlib.pyplot as plt\n",
    "import numpy as np\n",
    "import skimage\n",
    "from sklearn import svm, metrics, datasets\n",
    "from sklearn.svm import SVC\n",
    "from sklearn.utils import Bunch\n",
    "from sklearn.model_selection import GridSearchCV, train_test_split\n",
    "from sklearn.metrics import accuracy_score\n",
    "\n",
    "from skimage.io import imread\n",
    "from skimage.transform import resize\n",
    "from skimage.transform import resize as imresize\n",
    "\n",
    "REAL_IMAG = False\n",
    "NO_NMF = True\n",
    "\n",
    "\n",
    "# Load images in structured directory like it's sklearn sample dataset\n",
    "def load_image_files(container_path, dimension=(64, 64)):  # 调整图片的尺寸为dimension=(64, 64)\n",
    "\n",
    "    image_dir = Path(container_path)\n",
    "    # folders is the list of folders each conains a category of data\n",
    "    folders = [directory for directory in image_dir.iterdir() if directory.is_dir()]\n",
    "    # _______________________________________________________\n",
    "    # 去掉annotations文件夹\n",
    "    folders = folders[:-1]\n",
    "    # _______________________________________________________\n",
    "    categories = [fo.name for fo in folders]\n",
    "\n",
    "    descr = \"A image classification dataset\"\n",
    "    images = []\n",
    "    flat_data = []\n",
    "    target = []\n",
    "\n",
    "    for i, direc in enumerate(folders):\n",
    "        # print(i)\n",
    "        # print(direc)\n",
    "        for file in direc.iterdir():\n",
    "            mat_data = sciio.loadmat(file)\n",
    "            img = np.abs(mat_data['frame_Ev'])\n",
    "            raw_data = []\n",
    "            if REAL_IMAG:\n",
    "                raw_data.extend(np.real(mat_data['frame_Ev']).flatten())\n",
    "                raw_data.extend(np.imag(mat_data['frame_Ev']).flatten())\n",
    "                raw_data.extend(np.real(mat_data['frame_Eh']).flatten())\n",
    "                raw_data.extend(np.imag(mat_data['frame_Eh']).flatten())\n",
    "                raw_data = np.abs(raw_data)\n",
    "            else:\n",
    "                raw_data.extend(np.abs(mat_data['frame_Ev']).flatten())\n",
    "                raw_data.extend(np.abs(mat_data['frame_Eh']).flatten())\n",
    "            flat_data.append(raw_data)\n",
    "            images.append(img)\n",
    "            target.append(i)\n",
    "    flat_data = np.array(flat_data)\n",
    "    target = np.array(target)\n",
    "    images = np.array(images)\n",
    "    print(\"fucked\")\n",
    "\n",
    "    return Bunch(data=flat_data,\n",
    "                 target=target,\n",
    "                 target_names=categories,\n",
    "                 images=images,\n",
    "                 DESCR=descr)\n",
    "\n",
    "\n",
    "# ----KC501-----\n",
    "# image_dataset = load_image_files('/home/kc501/LJY/Alexnet/dataRCS')\n",
    "\n",
    "# ----ICraft----\n",
    "t_load_data = time()\n",
    "image_dataset = load_image_files('.\\dataRCS')\n",
    "print(\"Data load done in %0.3fs\" % (time() - t_load_data))\n",
    "# image_dataset_test = load_image_files(\"E:/RL_code/alex-net-image-classification-master/class3/val\")\n",
    "# Split data\n",
    "X_train, X_test, y_train, y_test = train_test_split(\n",
    "    image_dataset.data, image_dataset.target, test_size=0.2, random_state=101)\n"
   ],
   "metadata": {
    "collapsed": false,
    "ExecuteTime": {
     "end_time": "2023-05-06T01:52:30.672231200Z",
     "start_time": "2023-05-06T01:50:46.367281500Z"
    }
   }
  },
  {
   "cell_type": "code",
   "execution_count": null,
   "outputs": [],
   "source": [
    "n_components=200\n",
    "if not NO_NMF:\n",
    "    t_NMF = time()\n",
    "    nmf = NMF(n_components=n_components, init='nndsvd', tol=1e-2, max_iter=1000, verbose=True).fit(X_train)\n",
    "    # W = nmf.components_.reshape((n_components, 64, 64))\n",
    "\n",
    "    X_train_nmf = nmf.transform(X_train)\n",
    "    X_test_nmf = nmf.transform(X_test)\n",
    "    print(\"NMF done in %0.3fs\" % (time() - t_NMF))"
   ],
   "metadata": {
    "collapsed": false
   }
  },
  {
   "cell_type": "code",
   "execution_count": null,
   "outputs": [],
   "source": [
    "f = open('./TZB.txt', 'w')\n",
    "t_train = time()\n",
    "clf = SVC(C=1, kernel='poly', gamma=0.01, class_weight='balanced', decision_function_shape='ovo', verbose=True)\n",
    "print(\"SVM done in %0.3fs\" % (time() - t_train))\n",
    "\n",
    "if NO_NMF:\n",
    "    clf = clf.fit(X_train, y_train)\n",
    "    y_pred_train = clf.predict(X_train)\n",
    "    y_pred_test = clf.predict(X_test)\n",
    "else:\n",
    "    clf = clf.fit(X_train_nmf, y_train)\n",
    "    y_pred_train = clf.predict(X_train_nmf)\n",
    "    y_pred_test = clf.predict(X_test_nmf)\n",
    "\n",
    "y_true_train = y_train\n",
    "y_true_test = y_test\n",
    "\n",
    "f.write(\"n_components: {}\\n\".format(n_components))\n",
    "f.write(\"Acc on train data: {}\\n\".format(accuracy_score(y_true_train, y_pred_train)))\n",
    "f.write(\"Acc on test data: {}\\n\".format(accuracy_score(y_true_test, y_pred_test)))\n",
    "f.write(\"------------------------------------------------------------------------------\\n\")\n",
    "print(\"n_components: \", n_components)\n",
    "print(\"Acc on train data:\" + str(accuracy_score(y_true_train, y_pred_train)))\n",
    "\n",
    "print(\"Acc on test data:\" + str(accuracy_score(y_true_test, y_pred_test)))"
   ],
   "metadata": {
    "collapsed": false
   }
  }
 ],
 "metadata": {
  "kernelspec": {
   "display_name": "Python 3",
   "language": "python",
   "name": "python3"
  },
  "language_info": {
   "codemirror_mode": {
    "name": "ipython",
    "version": 2
   },
   "file_extension": ".py",
   "mimetype": "text/x-python",
   "name": "python",
   "nbconvert_exporter": "python",
   "pygments_lexer": "ipython2",
   "version": "2.7.6"
  }
 },
 "nbformat": 4,
 "nbformat_minor": 0
}
