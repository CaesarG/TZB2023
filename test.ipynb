{
 "cells": [
  {
   "cell_type": "code",
   "execution_count": 1,
   "metadata": {
    "ExecuteTime": {
     "end_time": "2023-05-09T05:11:23.337177900Z",
     "start_time": "2023-05-09T05:11:18.955661700Z"
    }
   },
   "outputs": [
    {
     "name": "stderr",
     "output_type": "stream",
     "text": [
      "Intel(R) Extension for Scikit-learn* enabled (https://github.com/intel/scikit-learn-intelex)\n"
     ]
    }
   ],
   "source": [
    "import matplotlib\n",
    "import numpy as np\n",
    "import pandas as pd\n",
    "import matplotlib.pyplot as plt\n",
    "import math\n",
    "import scipy.io as sciio\n",
    "from time import time\n",
    "import sklearn\n",
    "# %matplotlib inline\n",
    "from sklearn.datasets import make_blobs\n",
    "from sklearn.decomposition import NMF\n",
    "from sklearn.decomposition import PCA\n",
    "from sklearn.svm import SVC\n",
    "from pathlib import Path\n",
    "import matplotlib.pyplot as plt\n",
    "import numpy as np\n",
    "import skimage\n",
    "from sklearn import svm, metrics, datasets\n",
    "from sklearn.svm import SVC\n",
    "from sklearn.utils import Bunch\n",
    "from sklearn.model_selection import GridSearchCV, train_test_split\n",
    "from sklearn.metrics import accuracy_score\n",
    "from sklearnex import patch_sklearn\n",
    "from skimage.io import imread\n",
    "from skimage.transform import resize\n",
    "from skimage.transform import resize as imresize\n",
    "\n",
    "from load_data import LOAD_IMAGE\n",
    "\n",
    "patch_sklearn()\n",
    "\n",
    "REAL_IMAG = True\n",
    "NO_NMF = False\n",
    "is_NMF = False\n"
   ]
  },
  {
   "cell_type": "markdown",
   "source": [
    "# 数据加载部分"
   ],
   "metadata": {
    "collapsed": false
   }
  },
  {
   "cell_type": "code",
   "execution_count": 2,
   "outputs": [
    {
     "name": "stdout",
     "output_type": "stream",
     "text": [
      "0 1\n",
      "1 2\n",
      "2 3\n",
      "3 4\n",
      "4 5\n",
      "0 10\n",
      "1 6\n",
      "2 7\n",
      "3 8\n",
      "4 9\n",
      "fucked\n",
      "Data load done in 244.746s\n"
     ]
    }
   ],
   "source": [
    "# load data\n",
    "\n",
    "# ----KC501-----\n",
    "# image_dataset = load_image_files('/home/kc501/LJY/Alexnet/dataRCS')\n",
    "\n",
    "# ----ICraft----\n",
    "t_load_data = time()\n",
    "image_dataset = LOAD_IMAGE(REAL_IMAG)\n",
    "# image_dataset1 = load_image_files('.\\dataRCS')\n",
    "# image_dataset2 = load_image_files('.\\dataRCS2')\n",
    "# # flat_data = np.concatenate([image_dataset1.data, image_dataset2.data])\n",
    "# # target = np.concatenate([image_dataset1.target, image_dataset2.target])\n",
    "# # categories = np.concatenate([image_dataset1.categories, image_dataset2.categories])\n",
    "# # descr = image_dataset1.descr\n",
    "# categories = image_dataset1.target_names\n",
    "# categories.extend(image_dataset2.target_names)\n",
    "# print(\"fucked\")\n",
    "# image_dataset = Bunch(data=np.concatenate([image_dataset1.data, image_dataset2.data]),\n",
    "#                       target=np.concatenate([image_dataset1.target, image_dataset2.target]),\n",
    "#                       target_names=categories,\n",
    "#                       DESCR=image_dataset1.DESCR)\n",
    "print(\"Data load done in %0.3fs\" % (time() - t_load_data))\n",
    "# image_dataset_test = load_image_files(\"E:/RL_code/alex-net-image-classification-master/class3/val\")"
   ],
   "metadata": {
    "collapsed": false,
    "ExecuteTime": {
     "end_time": "2023-05-09T05:15:30.607757100Z",
     "start_time": "2023-05-09T05:11:25.854448Z"
    }
   }
  },
  {
   "cell_type": "markdown",
   "source": [
    "# 数据集划分部分"
   ],
   "metadata": {
    "collapsed": false
   }
  },
  {
   "cell_type": "code",
   "execution_count": 3,
   "metadata": {
    "ExecuteTime": {
     "end_time": "2023-05-09T05:15:41.462137100Z",
     "start_time": "2023-05-09T05:15:40.017433600Z"
    }
   },
   "outputs": [],
   "source": [
    "# Split data\n",
    "X_train, X_test, y_train, y_test = train_test_split(\n",
    "    image_dataset.data, image_dataset.target, test_size=0.2, random_state=101)"
   ]
  },
  {
   "cell_type": "markdown",
   "source": [
    "# NMF降维模块"
   ],
   "metadata": {
    "collapsed": false
   }
  },
  {
   "cell_type": "code",
   "execution_count": 4,
   "metadata": {
    "ExecuteTime": {
     "end_time": "2023-05-09T05:16:17.062736800Z",
     "start_time": "2023-05-09T05:15:53.919993900Z"
    }
   },
   "outputs": [],
   "source": [
    "n_components = 10\n",
    "tolerance = 1e-2\n",
    "max_iteration = 10000\n",
    "if not NO_NMF:\n",
    "    t_NMF = time()\n",
    "    if is_NMF:\n",
    "        # nmf = NMF(n_components=n_components, init='random', tol=tolerance, max_iter=max_iteration, verbose=True).fit(X_train)\n",
    "        nmf = NMF(n_components=n_components, init='random', tol=tolerance, max_iter=max_iteration, verbose=True).fit(\n",
    "            image_dataset.data)\n",
    "        print(\"NMF done in %0.3fs\" % (time() - t_NMF))\n",
    "    else:\n",
    "        # nmf=PCA(n_components).fit(X_train)\n",
    "        nmf = PCA(n_components).fit(image_dataset.data)\n",
    "        print(\"PCA done in %0.3fs\" % (time() - t_NMF))\n",
    "    X_train_nmf = nmf.transform(X_train)\n",
    "    X_test_nmf = nmf.transform(X_test)"
   ]
  },
  {
   "cell_type": "markdown",
   "source": [
    "# SVM训练模块\n"
   ],
   "metadata": {
    "collapsed": false
   }
  },
  {
   "cell_type": "code",
   "execution_count": 6,
   "metadata": {
    "ExecuteTime": {
     "end_time": "2023-05-09T05:17:14.106790800Z",
     "start_time": "2023-05-09T05:17:12.567532700Z"
    }
   },
   "outputs": [
    {
     "name": "stdout",
     "output_type": "stream",
     "text": [
      "[LibSVM]SVM done in 1.349s\n",
      "n_components:  10\n",
      "Acc on train data:0.8215\n",
      "Acc on test data:0.242\n"
     ]
    }
   ],
   "source": [
    "f = open('./TZB.txt', 'a')\n",
    "t_train = time()\n",
    "kernel = 'rbf'\n",
    "clf = SVC(C=10000, kernel=kernel, gamma=\"scale\", class_weight='balanced', decision_function_shape='ovo', verbose=True)\n",
    "\n",
    "if NO_NMF:\n",
    "    clf = clf.fit(X_train, y_train)\n",
    "    print(\"SVM done in %0.3fs\" % (time() - t_train))\n",
    "    y_pred_train = clf.predict(X_train)\n",
    "    y_pred_test = clf.predict(X_test)\n",
    "else:\n",
    "    clf = clf.fit(X_train_nmf, y_train)\n",
    "    print(\"SVM done in %0.3fs\" % (time() - t_train))\n",
    "    y_pred_train = clf.predict(X_train_nmf)\n",
    "    y_pred_test = clf.predict(X_test_nmf)\n",
    "\n",
    "y_true_train = y_train\n",
    "y_true_test = y_test\n",
    "\n",
    "f.write(\"n_components: {}\\n\".format(n_components))\n",
    "f.write(\"kernel: {}\\n\".format(kernel))\n",
    "f.write(\"Decomposition: {}\\n\".format(\"NMF\" if is_NMF else \"PCA\"))\n",
    "f.write(\"tolerance: {}\\n\".format(tolerance))\n",
    "f.write(\"max_iteration: {}\\n\".format(max_iteration))\n",
    "f.write(\"Acc on train data: {}\\n\".format(accuracy_score(y_true_train, y_pred_train)))\n",
    "f.write(\"Acc on test data: {}\\n\".format(accuracy_score(y_true_test, y_pred_test)))\n",
    "f.write(\"------------------------------------------------------------------------------\\n\")\n",
    "f.close()\n",
    "print(\"n_components: \", n_components)\n",
    "print(\"Acc on train data:\" + str(accuracy_score(y_true_train, y_pred_train)))\n",
    "\n",
    "print(\"Acc on test data:\" + str(accuracy_score(y_true_test, y_pred_test)))"
   ]
  },
  {
   "cell_type": "code",
   "execution_count": 6,
   "outputs": [],
   "source": [],
   "metadata": {
    "collapsed": false,
    "ExecuteTime": {
     "end_time": "2023-05-09T04:17:46.607226300Z",
     "start_time": "2023-05-09T04:17:46.589172900Z"
    }
   }
  },
  {
   "cell_type": "code",
   "execution_count": 6,
   "outputs": [],
   "source": [],
   "metadata": {
    "collapsed": false,
    "ExecuteTime": {
     "end_time": "2023-05-09T04:17:46.620183800Z",
     "start_time": "2023-05-09T04:17:46.607226300Z"
    }
   }
  }
 ],
 "metadata": {
  "kernelspec": {
   "display_name": "Python 3 (ipykernel)",
   "language": "python",
   "name": "python3"
  },
  "language_info": {
   "codemirror_mode": {
    "name": "ipython",
    "version": 3
   },
   "file_extension": ".py",
   "mimetype": "text/x-python",
   "name": "python",
   "nbconvert_exporter": "python",
   "pygments_lexer": "ipython3",
   "version": "3.7.16"
  }
 },
 "nbformat": 4,
 "nbformat_minor": 1
}
